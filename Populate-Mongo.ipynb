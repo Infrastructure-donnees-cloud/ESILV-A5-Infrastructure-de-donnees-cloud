{
 "cells": [
  {
   "cell_type": "code",
   "execution_count": null,
   "id": "74825e43",
   "metadata": {},
   "outputs": [],
   "source": [
    "Avant de lancer ce notebook "
   ]
  },
  {
   "cell_type": "code",
   "execution_count": 1,
   "id": "89cd8852",
   "metadata": {},
   "outputs": [],
   "source": [
    "import pandas as pd"
   ]
  },
  {
   "cell_type": "code",
   "execution_count": 2,
   "id": "93aa34c6",
   "metadata": {},
   "outputs": [],
   "source": [
    "Members = pd.read_csv('Members.csv')\n",
    "Corporations = pd.read_csv('Corporations.csv')\n",
    "Categories = pd.read_csv('Categories.csv')\n",
    "Providers = pd.read_csv('Prodivers.csv')\n",
    "Charges = pd.read_csv('Charges.csv')\n",
    "Statements = pd.read_csv('Statements.csv')\n",
    "Payments = pd.read_csv('Payments.csv')"
   ]
  }
 ],
 "metadata": {
  "kernelspec": {
   "display_name": "Python 3",
   "language": "python",
   "name": "python3"
  },
  "language_info": {
   "codemirror_mode": {
    "name": "ipython",
    "version": 3
   },
   "file_extension": ".py",
   "mimetype": "text/x-python",
   "name": "python",
   "nbconvert_exporter": "python",
   "pygments_lexer": "ipython3",
   "version": "3.9.9"
  }
 },
 "nbformat": 4,
 "nbformat_minor": 5
}
