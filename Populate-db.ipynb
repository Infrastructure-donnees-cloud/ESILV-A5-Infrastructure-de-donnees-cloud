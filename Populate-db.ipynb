{
 "cells": [
  {
   "cell_type": "markdown",
   "id": "973a5305",
   "metadata": {},
   "source": [
    "**Dénormalisation retenue:**"
   ]
  },
  {
   "cell_type": "code",
   "execution_count": 1,
   "id": "a7bd4be5",
   "metadata": {},
   "outputs": [
    {
     "data": {
      "text/plain": [
       "{'members': {'member_no': '1',\n",
       "  'lastname': 'DOUGLAS',\n",
       "  'firstname': 'Michael',\n",
       "  'phone_number': 'blabla',\n",
       "  'location': {'country': 'France',\n",
       "   'region_no': 'IDF',\n",
       "   'city': 'Paris',\n",
       "   'mail_code': '75000',\n",
       "   'street': 'blabla'},\n",
       "  'balance': {'prev_balance': '1000', 'curr_balance': '1200'},\n",
       "  '_comment': 'No need to have a list, each employee have only 1 corporation',\n",
       "  'corporation': {'corp_no': 1, 'corp_name': 'blabla', 'region_no': 'XX'},\n",
       "  'charge': [{'charge_no': '125',\n",
       "    'category_no': '12',\n",
       "    'category_desc': 'Travel',\n",
       "    'charge_dt': '2000-02-22 10:43:38',\n",
       "    'charge_amount': '336.0000',\n",
       "    'provider_no': 12,\n",
       "    'provider_name': 'BNP Paribas',\n",
       "    'provider_phone_number': 'blabla',\n",
       "    'payments': [1546, 1547, Ellipsis, 1578]}]},\n",
       " 'providers': {'provider_no': 1,\n",
       "  'provider_name': 'BNP',\n",
       "  'location': {'country': 'France',\n",
       "   'region_no': 'IDF',\n",
       "   'city': 'Paris',\n",
       "   'mail_code': '75000'}},\n",
       " 'payments': {'payment_no': 1546,\n",
       "  'payment_dt': '2000-02-22 10:43:38',\n",
       "  'payment_amt': 125.0}}"
      ]
     },
     "execution_count": 1,
     "metadata": {},
     "output_type": "execute_result"
    }
   ],
   "source": [
    "{\n",
    "    \"members\":\n",
    "    {\n",
    "        \"member_no\": \"1\",\n",
    "        \"lastname\": \"DOUGLAS\",\n",
    "        \"firstname\": \"Michael\",\n",
    "        \"phone_number\":\"blabla\",\n",
    " \n",
    "        \"location\":\n",
    "        {\n",
    "            \"country\":\"France\",\n",
    "            \"region_no\":\"IDF\",\n",
    "            \"city\":\"Paris\",\n",
    "            \"mail_code\":\"75000\",\n",
    "            \"street\":\"blabla\"\n",
    "        },\n",
    " \n",
    "        \"balance\":\n",
    "        {\n",
    "            \"prev_balance\": \"1000\",\n",
    "            \"curr_balance\": \"1200\"\n",
    "        },\n",
    " \n",
    "        \"_comment\":\"No need to have a list, each employee have only 1 corporation\",\n",
    "        \"corporation\":\n",
    "        {\n",
    "            \"corp_no\":1,\n",
    "            \"corp_name\":\"blabla\",\n",
    "            \"region_no\":\"XX\"\n",
    "        },\n",
    " \n",
    "        \"charge\": [\n",
    "            {\n",
    "                \"charge_no\": \"125\",\n",
    "                \"category_no\": \"12\",\n",
    "                \"category_desc\": \"Travel\",\n",
    "                \"charge_dt\": \"2000-02-22 10:43:38\",\n",
    "                \"charge_amount\": \"336.0000\",\n",
    " \n",
    "                \"provider_no\":12,\n",
    "                \"provider_name\":\"BNP Paribas\",\n",
    "                \"provider_phone_number\": \"blabla\",\n",
    "                \"payments\":[1546, 1547,... , 1578]\n",
    "            }\n",
    "        ]\n",
    "},\n",
    "     \"providers\":\n",
    "        {\n",
    "            \"provider_no\":1,\n",
    "            \"provider_name\":\"BNP\",\n",
    "            \"location\":\n",
    "            {\n",
    "                \"country\":\"France\",\n",
    "                \"region_no\":\"IDF\",\n",
    "                \"city\":\"Paris\",\n",
    "                \"mail_code\":\"75000\"\n",
    "            }\n",
    "        },\n",
    " \n",
    " \n",
    "    \"payments\":\n",
    "        {\n",
    "            \"payment_no\":1546,\n",
    "            \"payment_dt\":\"2000-02-22 10:43:38\",\n",
    "            \"payment_amt\":125.00\n",
    "        }\n",
    "}\n"
   ]
  }
 ],
 "metadata": {
  "kernelspec": {
   "display_name": "Python 3",
   "language": "python",
   "name": "python3"
  },
  "language_info": {
   "codemirror_mode": {
    "name": "ipython",
    "version": 3
   },
   "file_extension": ".py",
   "mimetype": "text/x-python",
   "name": "python",
   "nbconvert_exporter": "python",
   "pygments_lexer": "ipython3",
   "version": "3.9.9"
  }
 },
 "nbformat": 4,
 "nbformat_minor": 5
}
